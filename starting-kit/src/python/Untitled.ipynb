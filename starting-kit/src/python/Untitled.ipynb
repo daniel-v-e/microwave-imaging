{
 "cells": [
  {
   "cell_type": "code",
   "execution_count": 2,
   "id": "005ab7c8-2223-43f2-b5e6-ecce1c974df1",
   "metadata": {},
   "outputs": [
    {
     "name": "stdout",
     "output_type": "stream",
     "text": [
      "Collecting numpy==1.23.4\n",
      "  Downloading numpy-1.23.4-cp39-cp39-win_amd64.whl (14.7 MB)\n",
      "Collecting matplotlib==3.6.1\n",
      "  Downloading matplotlib-3.6.1-cp39-cp39-win_amd64.whl (7.2 MB)\n",
      "Collecting nibabel==4.0.2\n",
      "  Downloading nibabel-4.0.2-py3-none-any.whl (3.3 MB)\n",
      "Collecting scipy==1.9.1\n",
      "  Downloading scipy-1.9.1-cp39-cp39-win_amd64.whl (38.6 MB)\n",
      "Collecting contourpy>=1.0.1\n",
      "  Downloading contourpy-1.0.6-cp39-cp39-win_amd64.whl (161 kB)\n",
      "Requirement already satisfied: cycler>=0.10 in c:\\users\\jordi\\anaconda3\\lib\\site-packages (from matplotlib==3.6.1->-r requirements.txt (line 2)) (0.10.0)\n",
      "Requirement already satisfied: packaging>=20.0 in c:\\users\\jordi\\anaconda3\\lib\\site-packages (from matplotlib==3.6.1->-r requirements.txt (line 2)) (21.0)\n",
      "Requirement already satisfied: fonttools>=4.22.0 in c:\\users\\jordi\\anaconda3\\lib\\site-packages (from matplotlib==3.6.1->-r requirements.txt (line 2)) (4.25.0)\n",
      "Requirement already satisfied: python-dateutil>=2.7 in c:\\users\\jordi\\anaconda3\\lib\\site-packages (from matplotlib==3.6.1->-r requirements.txt (line 2)) (2.8.2)\n",
      "Requirement already satisfied: pillow>=6.2.0 in c:\\users\\jordi\\anaconda3\\lib\\site-packages (from matplotlib==3.6.1->-r requirements.txt (line 2)) (8.4.0)\n",
      "Requirement already satisfied: pyparsing>=2.2.1 in c:\\users\\jordi\\anaconda3\\lib\\site-packages (from matplotlib==3.6.1->-r requirements.txt (line 2)) (3.0.4)\n",
      "Requirement already satisfied: kiwisolver>=1.0.1 in c:\\users\\jordi\\anaconda3\\lib\\site-packages (from matplotlib==3.6.1->-r requirements.txt (line 2)) (1.3.1)\n",
      "Requirement already satisfied: setuptools in c:\\users\\jordi\\anaconda3\\lib\\site-packages (from nibabel==4.0.2->-r requirements.txt (line 3)) (58.0.4)\n",
      "Requirement already satisfied: six in c:\\users\\jordi\\anaconda3\\lib\\site-packages (from cycler>=0.10->matplotlib==3.6.1->-r requirements.txt (line 2)) (1.16.0)\n",
      "Installing collected packages: numpy, contourpy, scipy, nibabel, matplotlib\n",
      "  Attempting uninstall: numpy\n",
      "    Found existing installation: numpy 1.20.3\n",
      "    Uninstalling numpy-1.20.3:\n",
      "      Successfully uninstalled numpy-1.20.3\n",
      "  Attempting uninstall: scipy\n",
      "    Found existing installation: scipy 1.7.1\n",
      "    Uninstalling scipy-1.7.1:\n",
      "      Successfully uninstalled scipy-1.7.1\n",
      "  Attempting uninstall: matplotlib\n",
      "    Found existing installation: matplotlib 3.4.3\n",
      "    Uninstalling matplotlib-3.4.3:\n",
      "      Successfully uninstalled matplotlib-3.4.3\n",
      "Successfully installed contourpy-1.0.6 matplotlib-3.6.1 nibabel-4.0.2 numpy-1.23.4 scipy-1.9.1\n",
      "Note: you may need to restart the kernel to use updated packages.\n"
     ]
    },
    {
     "name": "stderr",
     "output_type": "stream",
     "text": [
      "ERROR: pip's dependency resolver does not currently take into account all the packages that are installed. This behaviour is the source of the following dependency conflicts.\n",
      "daal4py 2021.3.0 requires daal==2021.2.3, which is not installed.\n",
      "tsfresh 0.19.0 requires statsmodels>=0.13, but you have statsmodels 0.12.2 which is incompatible.\n",
      "numba 0.54.1 requires numpy<1.21,>=1.17, but you have numpy 1.23.4 which is incompatible.\n",
      "matrixprofile 1.1.10 requires protobuf==3.11.2, but you have protobuf 3.20.0 which is incompatible.\n"
     ]
    }
   ],
   "source": [
    "pip install -r requirements.txt"
   ]
  },
  {
   "cell_type": "code",
   "execution_count": 4,
   "id": "cda32f08-437c-4402-9454-e1e4f734213f",
   "metadata": {},
   "outputs": [],
   "source": [
    "import main"
   ]
  },
  {
   "cell_type": "code",
   "execution_count": null,
   "id": "fb91dba8-600f-40b4-8ae9-0873082a502e",
   "metadata": {},
   "outputs": [],
   "source": []
  }
 ],
 "metadata": {
  "kernelspec": {
   "display_name": "Python 3 (ipykernel)",
   "language": "python",
   "name": "python3"
  },
  "language_info": {
   "codemirror_mode": {
    "name": "ipython",
    "version": 3
   },
   "file_extension": ".py",
   "mimetype": "text/x-python",
   "name": "python",
   "nbconvert_exporter": "python",
   "pygments_lexer": "ipython3",
   "version": "3.9.7"
  }
 },
 "nbformat": 4,
 "nbformat_minor": 5
}
